{
 "cells": [
  {
   "cell_type": "code",
   "execution_count": 11,
   "id": "31b6dced",
   "metadata": {},
   "outputs": [
    {
     "name": "stdout",
     "output_type": "stream",
     "text": [
      "vani\n",
      "1\n"
     ]
    }
   ],
   "source": [
    "class my_class:\n",
    "    def my_func(self,name,roll_no):\n",
    "        self.name=name\n",
    "        self.roll_no=roll_no\n",
    "vani=my_class()\n",
    "vani.my_func('vani',1)\n",
    "print(vani.name)\n",
    "print(vani.roll_no)"
   ]
  },
  {
   "cell_type": "code",
   "execution_count": null,
   "id": "1d8c65de",
   "metadata": {},
   "outputs": [],
   "source": [
    "#Constrctor\n",
    "#Polymorphism\n",
    "#Astraction\n",
    "#Encapsulation"
   ]
  },
  {
   "cell_type": "code",
   "execution_count": 12,
   "id": "0b5a366a",
   "metadata": {},
   "outputs": [
    {
     "name": "stdout",
     "output_type": "stream",
     "text": [
      "vani\n",
      "1\n"
     ]
    }
   ],
   "source": [
    "class my_class:\n",
    "    def __init__(self,name,roll_no):\n",
    "        self.name=name\n",
    "        self.roll_no=roll_no\n",
    "vani=my_class('vani',1)\n",
    "print(vani.name)\n",
    "print(vani.roll_no)"
   ]
  },
  {
   "cell_type": "code",
   "execution_count": null,
   "id": "709f4217",
   "metadata": {},
   "outputs": [],
   "source": [
    "#self is used to make relation between class and variable of a function"
   ]
  }
 ],
 "metadata": {
  "kernelspec": {
   "display_name": "Python 3 (ipykernel)",
   "language": "python",
   "name": "python3"
  },
  "language_info": {
   "codemirror_mode": {
    "name": "ipython",
    "version": 3
   },
   "file_extension": ".py",
   "mimetype": "text/x-python",
   "name": "python",
   "nbconvert_exporter": "python",
   "pygments_lexer": "ipython3",
   "version": "3.9.13"
  }
 },
 "nbformat": 4,
 "nbformat_minor": 5
}
